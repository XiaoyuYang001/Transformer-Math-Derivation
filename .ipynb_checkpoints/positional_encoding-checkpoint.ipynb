{
 "cells": [
  {
   "cell_type": "code",
   "execution_count": null,
   "id": "2820d26b-872f-4949-b7cb-46f03bd2ed0d",
   "metadata": {},
   "outputs": [],
   "source": [
    "import numpy as np\n",
    "import matplotlib.pyplot as plt\n",
    "import seaborn as sns\n",
    "\n",
    "def sinusoidal_pos_encoding(seq_len, d_model):\n",
    "    position = np.arange(seq_len)[:, np.newaxis]  # (seq_len, 1)\n",
    "    div_term = np.exp(np.arange(0, d_model, 2) * (-np.log(10000.0) / d_model)\n",
    "    pe = np.zeros((seq_len, d_model))\n",
    "    pe[:, 0::2] = np.sin(position * div_term)  # 偶数位置用sin\n",
    "    pe[:, 1::2] = np.cos(position * div_term)  # 奇数位置用cos\n",
    "    return pe\n",
    "\n",
    "# 参数设置（与原始论文一致）\n",
    "seq_len = 50\n",
    "d_model = 512\n",
    "pe = sinusoidal_pos_encoding(seq_len, d_model)"
   ]
  }
 ],
 "metadata": {
  "kernelspec": {
   "display_name": "Python 3 (ipykernel)",
   "language": "python",
   "name": "python3"
  },
  "language_info": {
   "codemirror_mode": {
    "name": "ipython",
    "version": 3
   },
   "file_extension": ".py",
   "mimetype": "text/x-python",
   "name": "python",
   "nbconvert_exporter": "python",
   "pygments_lexer": "ipython3",
   "version": "3.12.5"
  }
 },
 "nbformat": 4,
 "nbformat_minor": 5
}
